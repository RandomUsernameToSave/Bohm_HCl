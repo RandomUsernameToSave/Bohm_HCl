{
 "cells": [
  {
   "cell_type": "markdown",
   "metadata": {},
   "source": [
    "# Bohmian trajectories of HCl\n",
    "\n",
    "First things first, we need to import our librairies !"
   ]
  },
  {
   "cell_type": "code",
   "execution_count": 1,
   "metadata": {},
   "outputs": [],
   "source": [
    "import utils.utils_bohm as u\n",
    "import pickle\n",
    "import numpy as np\n",
    "import utils.utils_bohm as u\n",
    "import pickle\n",
    "import numpy as np\n",
    "\n",
    "\n",
    "\n",
    "file1 = open('./eigenvalues.pkl','rb')\n",
    "file2 = open('./eigenvector.pkl', 'rb')\n",
    "file3 = open('./particle_trajectories.pkl','wb')\n",
    "file4 = open('./particle_sample.pkl','wb')"
   ]
  },
  {
   "cell_type": "markdown",
   "metadata": {},
   "source": [
    "Here is the values that we can play with ! (Be careful, as we do not recalculate our eigenvectors/values N should be equal to the mesh grid length)"
   ]
  },
  {
   "cell_type": "code",
   "execution_count": 2,
   "metadata": {},
   "outputs": [],
   "source": [
    "N= 200\n",
    "Number_Samples = 20000\n",
    "Valeur_propre = 9"
   ]
  },
  {
   "cell_type": "code",
   "execution_count": 3,
   "metadata": {},
   "outputs": [],
   "source": [
    "eigenvalues = pickle.load(file1)\n",
    "eigenvectors = pickle.load(file2)\n",
    "X, Y, Z = np.mgrid[-1:1:N*1j, -1:1:N*1j, -1:1:N*1j]\n",
    "Xelse = np.mgrid[-1:1:N*1j]\n",
    "\n",
    "def get_e(n):\n",
    "    return eigenvectors.T[n].reshape((N,N,N)).cpu().numpy()\n",
    "\n",
    "valeur_propre = eigenvalues[9].cpu().numpy()\n",
    "phi = get_e(9)"
   ]
  },
  {
   "cell_type": "markdown",
   "metadata": {},
   "source": [
    "Now, we have to calculate our flow field. And generate a lot of samples choosen according to the probabilty density !"
   ]
  },
  {
   "cell_type": "code",
   "execution_count": 6,
   "metadata": {},
   "outputs": [],
   "source": [
    "vphi = u.v_phi(phi,np.mgrid[-1:1:N*1j, -1:1:N*1j, -1:1:N*1j],N)\n",
    "\n",
    "Samples = u.get_samples(Number_Samples,phi,(Xelse,Xelse,Xelse))\n",
    "pickle.dump(Samples,file4)"
   ]
  },
  {
   "cell_type": "markdown",
   "metadata": {},
   "source": [
    "And finally ! Our biggest (and slowest calculus) the trajectories of the particles"
   ]
  },
  {
   "cell_type": "code",
   "execution_count": 10,
   "metadata": {},
   "outputs": [],
   "source": [
    "Trajectories = u.trajectory_from_potential(Samples,phi,0.01,200,N,valeur_propre,vphi)\n",
    "pickle.dump(Trajectories,file3)"
   ]
  }
 ],
 "metadata": {
  "kernelspec": {
   "display_name": "Python 3",
   "language": "python",
   "name": "python3"
  },
  "language_info": {
   "codemirror_mode": {
    "name": "ipython",
    "version": 3
   },
   "file_extension": ".py",
   "mimetype": "text/x-python",
   "name": "python",
   "nbconvert_exporter": "python",
   "pygments_lexer": "ipython3",
   "version": "3.10.4"
  }
 },
 "nbformat": 4,
 "nbformat_minor": 2
}
